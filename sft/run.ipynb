{
  "cells": [
    {
      "cell_type": "code",
      "execution_count": null,
      "metadata": {
        "colab": {
          "base_uri": "https://localhost:8080/"
        },
        "id": "3_3l7S9eJx28",
        "outputId": "4e78f8d6-da9a-463d-95ad-92a46fac8c1a"
      },
      "outputs": [],
      "source": [
        "!pip install pytorch-lightning transformers wandb torchmetrics deepspeed nltk"
      ]
    },
    {
      "cell_type": "code",
      "execution_count": null,
      "metadata": {
        "colab": {
          "base_uri": "https://localhost:8080/"
        },
        "id": "qfzo81ZqJx29",
        "outputId": "77b4b9ac-970e-4290-e280-8b489400811f"
      },
      "outputs": [],
      "source": [
        "!git clone https://github.com/Myashka/CQA_RLHF.git cqa"
      ]
    },
    {
      "cell_type": "code",
      "execution_count": null,
      "metadata": {
        "colab": {
          "base_uri": "https://localhost:8080/"
        },
        "id": "Ar7l-FvZJx29",
        "outputId": "1353907a-7f26-4eeb-fe7d-4f2ff72cfdae"
      },
      "outputs": [],
      "source": [
        "if 'google.colab' in str(get_ipython()):\n",
        "    !pip install cloud-tpu-client==0.10 torch==1.13.1 https://storage.googleapis.com/tpu-pytorch/wheels/colab/torch_xla-1.13-cp38-cp38-linux_x86_64.whl tensorboard-plugin-profile\n",
        "    !pip install google-api-python-client==1.12.1\n",
        "    from google.colab import drive\n",
        "    drive.mount('/content/drive')"
      ]
    },
    {
      "cell_type": "code",
      "execution_count": null,
      "metadata": {
        "id": "K34s1lAzJx2-"
      },
      "outputs": [],
      "source": [
        "import yaml"
      ]
    },
    {
      "attachments": {},
      "cell_type": "markdown",
      "metadata": {},
      "source": [
        "## Run train"
      ]
    },
    {
      "cell_type": "code",
      "execution_count": null,
      "metadata": {
        "id": "YXCMjOSDJx2-"
      },
      "outputs": [],
      "source": [
        "trainer_config = dict(\n",
        "    seed=42,\n",
        "    model_name=\"EleutherAI/gpt-neo-1.3B\",\n",
        "    wandb=dict(\n",
        "        api=\"60fce56bfaec85b8d6bc78bfac2086891f5afe54\",\n",
        "        project_name=\"CQA_RLHF\",\n",
        "        args=dict(job_type=\"train\", group=\"sft\", name=\"1.3B-tpu-kaggle\"),\n",
        "    ),\n",
        "    data=dict(\n",
        "        data_dir=r\"/kaggle/input/python-qa-v2/1.0-data-div-ans-sep.json\",\n",
        "        max_length=512,\n",
        "        batch_size=1,\n",
        "        pad_for_tpu = True\n",
        "    ),\n",
        "    model_params=dict(\n",
        "        learning_rate=2e-5,\n",
        "        do_freeze=False,\n",
        "        use_cache=False,\n",
        "        warmup_steps=100,\n",
        "        adam_betas=[0.9, 0.95],\n",
        "        weight_decay=0.001,\n",
        "        do_compute_metrics = False,\n",
        "        do_compute_bertscore = False\n",
        "    ),\n",
        "    trainer=dict(\n",
        "        checkpoint=dict(\n",
        "            every_n_train_steps=1000,\n",
        "            dirpath=r\"/kaggle/working/Checkpoints\",\n",
        "        ),\n",
        "        ckpt_path=None,\n",
        "        params=dict(\n",
        "            accelerator=\"tpu\",\n",
        "            max_epochs=3,\n",
        "            auto_scale_batch_size=False,\n",
        "            accumulate_grad_batches=1,\n",
        "            gradient_clip_val=1,\n",
        "            precision=\"16\",\n",
        "            val_check_interval=500,\n",
        "            overfit_batches=0,  # 0 for train\n",
        "            num_sanity_val_steps=2,\n",
        "            log_every_n_steps = 20,\n",
        "#             limit_train_batches=100,\n",
        "#             strategy=\"deepspeed_stage_2_offload\"\n",
        "        ),\n",
        "    ),\n",
        ")\n",
        "\n",
        "with open(\"trainer_config.yaml\", \"w\") as outfile:\n",
        "    yaml.dump(trainer_config, outfile, default_flow_style=False)"
      ]
    },
    {
      "cell_type": "code",
      "execution_count": null,
      "metadata": {
        "colab": {
          "base_uri": "https://localhost:8080/"
        },
        "id": "QPcAvJaFJx3A",
        "outputId": "b04257d2-7d57-4d43-de21-50b44c3d3ca4"
      },
      "outputs": [],
      "source": [
        "!python /kaggle/working/CQA_RLHF/sft/train.py --config_file /kaggle/working/trainer_config.yaml"
      ]
    },
    {
      "attachments": {},
      "cell_type": "markdown",
      "metadata": {},
      "source": [
        "## Run test"
      ]
    },
    {
      "cell_type": "code",
      "execution_count": null,
      "metadata": {},
      "outputs": [],
      "source": [
        "test_config = dict(\n",
        "    seed=42,\n",
        "    cuda=True,\n",
        "    wandb=dict(\n",
        "        api=\"text\",\n",
        "        args=dict(group=\"sft\", job_type=\"test\", name=\"1.3B-base-test\"),\n",
        "        project_name=\"CQA_RLHF\",\n",
        "        table_name=\"test-modelname\",\n",
        "    ),\n",
        "    model_name=\"EleutherAI/gpt-neo-1.3B\",\n",
        "    data=dict(data_dir=r\"/kaggle/input/python-qa/1.0-data-div-ans-sep.json\"),\n",
        "    test_model_path=\"checkpoint_path\",\n",
        "    model_params=dict(use_cache=True),\n",
        "    test_params=dict(do_compute_bertscore=False, do_compute_metrics=False),\n",
        "    generate_params=dict(\n",
        "        do_sample=False,\n",
        "        top_k=50,\n",
        "        top_p=0.9,\n",
        "        temperature=0,\n",
        "        num_return_sequences=0,\n",
        "        no_repeat_ngram_size=2,\n",
        "        max_new_tokens=512,\n",
        "    ),\n",
        ")\n",
        "\n",
        "with open(\"test_config.yaml\", \"w\") as outfile:\n",
        "    yaml.dump(test_config, outfile, default_flow_style=False)"
      ]
    },
    {
      "cell_type": "code",
      "execution_count": null,
      "metadata": {},
      "outputs": [],
      "source": [
        "!python /content/cqa/sft/test.py --config_file /content/test_config.yaml"
      ]
    },
    {
      "cell_type": "code",
      "execution_count": null,
      "metadata": {
        "id": "WOuSJJ3LBq6k"
      },
      "outputs": [],
      "source": [
        "  "
      ]
    }
  ],
  "metadata": {
    "accelerator": "GPU",
    "colab": {
      "provenance": []
    },
    "gpuClass": "standard",
    "kernelspec": {
      "display_name": "base",
      "language": "python",
      "name": "python3"
    },
    "language_info": {
      "codemirror_mode": {
        "name": "ipython",
        "version": 3
      },
      "file_extension": ".py",
      "mimetype": "text/x-python",
      "name": "python",
      "nbconvert_exporter": "python",
      "pygments_lexer": "ipython3",
      "version": "3.9.12"
    },
    "orig_nbformat": 4,
    "vscode": {
      "interpreter": {
        "hash": "ad2bdc8ecc057115af97d19610ffacc2b4e99fae6737bb82f5d7fb13d2f2c186"
      }
    }
  },
  "nbformat": 4,
  "nbformat_minor": 0
}

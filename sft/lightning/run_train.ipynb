{
 "cells": [
  {
   "cell_type": "code",
   "execution_count": null,
   "metadata": {},
   "outputs": [],
   "source": [
    "!pip install cloud-tpu-client https://storage.googleapis.com/tpu-pytorch/wheels/torch_xla-1.12-cp39-cp39m-linux_x86_64.whl"
   ]
  },
  {
   "cell_type": "code",
   "execution_count": null,
   "metadata": {},
   "outputs": [],
   "source": [
    "!pip install pytorch-lightning bert_score datasets rouge_score evaluate transformers wandb accelerate"
   ]
  },
  {
   "cell_type": "code",
   "execution_count": null,
   "metadata": {},
   "outputs": [],
   "source": [
    "if 'google.colab' in str(get_ipython()):\n",
    "    from google.colab import drive\n",
    "    drive.mount('/content/drive')"
   ]
  },
  {
   "cell_type": "code",
   "execution_count": null,
   "metadata": {},
   "outputs": [],
   "source": [
    "import yaml"
   ]
  },
  {
   "cell_type": "code",
   "execution_count": null,
   "metadata": {},
   "outputs": [],
   "source": [
    "trainer_config = dict(\n",
    "    seed=42,\n",
    "    model_name=\"EleutherAI/gpt-neo-125M\",\n",
    "    wandb=dict(\n",
    "        api=\"text\",\n",
    "        project_name=\"CQA_RLHF\",\n",
    "        args=dict(job_type=\"train\", group=\"sft\", name=\"test-run\"),\n",
    "    ),\n",
    "    data=dict(\n",
    "        path_to_data=r\"/content/drive/MyDrive/Diploma/data/1.0-data-div-ans-sep.json\",\n",
    "        max_length=512,\n",
    "        batch_size=4,\n",
    "    ),\n",
    "    model_params=dict(\n",
    "        lr=5e-5,\n",
    "        do_freeze=True,\n",
    "        use_cache=False,\n",
    "        warmup_steps=100,\n",
    "        adam_epsilon=[0.9, 0.95],\n",
    "        weight_decay=0.001,\n",
    "    ),\n",
    "    trainer=dict(\n",
    "        checkpoint=dict(\n",
    "            every_n_train_steps=1000,\n",
    "            dirpath=r\"/content/drive/MyDrive/Diploma/Checkpoints\",\n",
    "        ),\n",
    "        accelerator=\"auto\",\n",
    "        max_epoches=3,\n",
    "        auto_scale_batch_size=True,\n",
    "        accumulate_grad_batches=1,\n",
    "        gradient_clip_val=1,\n",
    "        val_check_interval=1000,\n",
    "        precision=\"16\",\n",
    "        ckpt_path=None,\n",
    "    ),\n",
    ")\n",
    "\n",
    "with open(\"trainer_config.yaml\", \"w\") as outfile:\n",
    "    yaml.dump(trainer_config, outfile, default_flow_style=False)"
   ]
  },
  {
   "cell_type": "code",
   "execution_count": null,
   "metadata": {},
   "outputs": [],
   "source": []
  }
 ],
 "metadata": {
  "kernelspec": {
   "display_name": "base",
   "language": "python",
   "name": "python3"
  },
  "language_info": {
   "name": "python",
   "version": "3.9.12"
  },
  "orig_nbformat": 4,
  "vscode": {
   "interpreter": {
    "hash": "ad2bdc8ecc057115af97d19610ffacc2b4e99fae6737bb82f5d7fb13d2f2c186"
   }
  }
 },
 "nbformat": 4,
 "nbformat_minor": 2
}

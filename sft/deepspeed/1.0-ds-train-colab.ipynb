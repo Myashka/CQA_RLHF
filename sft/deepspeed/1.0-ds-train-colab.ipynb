{
  "cells": [
    {
      "cell_type": "markdown",
      "metadata": {
        "id": "hKafdqBCS7Lu"
      },
      "source": [
        "# Training model on the Google Colab\n",
        "\n",
        "## Description\n",
        "\n",
        "Notebook to train model on Colab/Kaggle VM with HF's Accelerator"
      ]
    },
    {
      "cell_type": "markdown",
      "metadata": {
        "id": "FowFDwRPggIK"
      },
      "source": [
        "## Settings and downloads"
      ]
    },
    {
      "cell_type": "markdown",
      "metadata": {
        "id": "KkMTONO4ggIL"
      },
      "source": [
        "### Install Apex"
      ]
    },
    {
      "cell_type": "code",
      "execution_count": null,
      "metadata": {
        "colab": {
          "base_uri": "https://localhost:8080/"
        },
        "id": "Lv6Bfq66ggIM",
        "outputId": "3395943a-fefc-469b-c55e-c784c39e1045",
        "trusted": true
      },
      "outputs": [],
      "source": [
        "%%writefile setup.sh\n",
        "\n",
        "git clone https://github.com/NVIDIA/apex\n",
        "pip install -v --no-cache-dir --global-option=\"--cpp_ext\" --global-option=\"--cuda_ext\" ./apex"
      ]
    },
    {
      "cell_type": "code",
      "execution_count": null,
      "metadata": {
        "id": "97WWTISfggIN",
        "trusted": true
      },
      "outputs": [],
      "source": [
        "!sh setup.sh"
      ]
    },
    {
      "cell_type": "markdown",
      "metadata": {
        "id": "xw83SXIFggIO"
      },
      "source": [
        "### Install libs and clone the project"
      ]
    },
    {
      "cell_type": "code",
      "execution_count": null,
      "metadata": {
        "execution": {
          "iopub.execute_input": "2023-02-17T12:32:22.518340Z",
          "iopub.status.busy": "2023-02-17T12:32:22.518006Z",
          "iopub.status.idle": "2023-02-17T12:32:37.270473Z",
          "shell.execute_reply": "2023-02-17T12:32:37.269197Z",
          "shell.execute_reply.started": "2023-02-17T12:32:22.518312Z"
        },
        "id": "CJjkhiRpvXF8",
        "trusted": true
      },
      "outputs": [],
      "source": [
        "!pip install bert_score datasets rouge_score evaluate transformers wandb deepspeed mpi4py"
      ]
    },
    {
      "cell_type": "code",
      "execution_count": null,
      "metadata": {
        "colab": {
          "base_uri": "https://localhost:8080/"
        },
        "execution": {
          "iopub.execute_input": "2023-02-17T12:32:20.672729Z",
          "iopub.status.busy": "2023-02-17T12:32:20.672376Z",
          "iopub.status.idle": "2023-02-17T12:32:22.515707Z",
          "shell.execute_reply": "2023-02-17T12:32:22.514549Z",
          "shell.execute_reply.started": "2023-02-17T12:32:20.672700Z"
        },
        "id": "ZzxN28hV29Ak",
        "outputId": "54824243-5b19-487c-9d94-f0139a89472b",
        "trusted": true
      },
      "outputs": [],
      "source": [
        "!git clone https://github.com/Myashka/CQA_RLHF.git"
      ]
    },
    {
      "cell_type": "code",
      "execution_count": null,
      "metadata": {
        "colab": {
          "base_uri": "https://localhost:8080/"
        },
        "execution": {
          "iopub.execute_input": "2023-02-17T12:20:55.539835Z",
          "iopub.status.busy": "2023-02-17T12:20:55.539098Z",
          "iopub.status.idle": "2023-02-17T12:20:55.546642Z",
          "shell.execute_reply": "2023-02-17T12:20:55.545600Z",
          "shell.execute_reply.started": "2023-02-17T12:20:55.539736Z"
        },
        "id": "LOQPx55QTR_o",
        "outputId": "6155b6f0-4e7f-4e7b-cdbc-e9b28418c57b",
        "trusted": true
      },
      "outputs": [],
      "source": [
        "if 'google.colab' in str(get_ipython()):\n",
        "    from google.colab import drive\n",
        "    drive.mount('/content/drive')"
      ]
    },
    {
      "cell_type": "code",
      "execution_count": null,
      "metadata": {
        "id": "aODhsQrHyxSI"
      },
      "outputs": [],
      "source": [
        "import os\n",
        "import wandb"
      ]
    },
    {
      "cell_type": "code",
      "execution_count": null,
      "metadata": {
        "id": "SofqK-m9yo5f"
      },
      "outputs": [],
      "source": [
        "wandb.login()\n",
        "\n",
        "os.environ[\"WANDB_LOG_MODEL\"] = \"true\"\n",
        "os.environ[\"WANDB_SILENT\"] = \"true\""
      ]
    },
    {
      "cell_type": "code",
      "execution_count": null,
      "metadata": {
        "colab": {
          "base_uri": "https://localhost:8080/"
        },
        "id": "YdpoKpmut-Ld",
        "outputId": "15402d65-797c-46fd-ef56-e624ccfa978e"
      },
      "outputs": [],
      "source": [
        "!deepspeed /content/CQA_RLHF/sft/train.py"
      ]
    }
  ],
  "metadata": {
    "accelerator": "GPU",
    "colab": {
      "provenance": []
    },
    "gpuClass": "standard",
    "kernelspec": {
      "display_name": "Python 3",
      "language": "python",
      "name": "python3"
    },
    "language_info": {
      "codemirror_mode": {
        "name": "ipython",
        "version": 3
      },
      "file_extension": ".py",
      "mimetype": "text/x-python",
      "name": "python",
      "nbconvert_exporter": "python",
      "pygments_lexer": "ipython3",
      "version": "3.9.12"
    },
    "vscode": {
      "interpreter": {
        "hash": "ad2bdc8ecc057115af97d19610ffacc2b4e99fae6737bb82f5d7fb13d2f2c186"
      }
    }
  },
  "nbformat": 4,
  "nbformat_minor": 0
}

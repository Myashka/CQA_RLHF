{
  "cells": [
    {
      "cell_type": "code",
      "execution_count": null,
      "metadata": {
        "colab": {
          "base_uri": "https://localhost:8080/"
        },
        "id": "3_3l7S9eJx28",
        "outputId": "4e78f8d6-da9a-463d-95ad-92a46fac8c1a"
      },
      "outputs": [],
      "source": [
        "!pip install pytorch-lightning==1.9.2 transformers torchmetrics deepspeed nltk wandb"
      ]
    },
    {
      "cell_type": "code",
      "execution_count": null,
      "metadata": {
        "colab": {
          "base_uri": "https://localhost:8080/"
        },
        "id": "qfzo81ZqJx29",
        "outputId": "77b4b9ac-970e-4290-e280-8b489400811f"
      },
      "outputs": [],
      "source": [
        "!git clone https://github.com/Myashka/CQA_RLHF.git cqa"
      ]
    },
    {
      "cell_type": "code",
      "execution_count": null,
      "metadata": {
        "colab": {
          "base_uri": "https://localhost:8080/"
        },
        "id": "Ar7l-FvZJx29",
        "outputId": "1353907a-7f26-4eeb-fe7d-4f2ff72cfdae"
      },
      "outputs": [],
      "source": [
        "if 'google.colab' in str(get_ipython()):\n",
        "    !pip install cloud-tpu-client==0.10 torch==1.13.1 https://storage.googleapis.com/tpu-pytorch/wheels/colab/torch_xla-1.13-cp38-cp38-linux_x86_64.whl tensorboard-plugin-profile\n",
        "    !pip install google-api-python-client==1.12.1\n",
        "    from google.colab import drive\n",
        "    drive.mount('/content/drive')"
      ]
    },
    {
      "cell_type": "code",
      "execution_count": 1,
      "metadata": {
        "id": "K34s1lAzJx2-"
      },
      "outputs": [],
      "source": [
        "import yaml"
      ]
    },
    {
      "attachments": {},
      "cell_type": "markdown",
      "metadata": {},
      "source": [
        "## Run train"
      ]
    },
    {
      "cell_type": "code",
      "execution_count": 2,
      "metadata": {
        "id": "YXCMjOSDJx2-"
      },
      "outputs": [],
      "source": [
        "trainer_config = dict(\n",
        "    seed=42,\n",
        "    model_name=\"Myashka/125M_GPTneo_reward_base\",\n",
        "    wandb=dict(\n",
        "        api=\"60fce56bfaec85b8d6bc78bfac2086891f5afe54\",\n",
        "        project_name=\"CQA_RLHF\",\n",
        "        args=dict(job_type=\"train\", group=\"reward\", name=\"125M-lr_2e_5-1_ws-api_usage-freezed_3\"),\n",
        "    ),\n",
        "    data=dict(\n",
        "        data_dir=r\"/kaggle/input/python-qa-api-usage/1.0-data-div-ans-sep-api-usage.json\",\n",
        "        max_length=512,\n",
        "        batch_size=8,\n",
        "        truncate_promt = True,\n",
        "        on_tpu=False,\n",
        "    ),\n",
        "    model_params=dict(\n",
        "        learning_rate=2e-5,\n",
        "        use_cache=False,\n",
        "        warmup_steps_per_cent=0.01,\n",
        "        adam_betas=[0.9, 0.95],\n",
        "        weight_decay=0.001,\n",
        "        do_compute_metrics = True,\n",
        "        nr_frozen_epochs = 3,\n",
        "    ),\n",
        "    trainer=dict(\n",
        "        checkpoint=dict(\n",
        "            every_n_train_steps=1000,\n",
        "            dirpath=r\"/kaggle/working/Checkpoints\",\n",
        "            log_obg = 'val_accuracy',\n",
        "            mode = 'max',\n",
        "\n",
        "        ),\n",
        "        ckpt_path=None,\n",
        "        params=dict(\n",
        "            accelerator=\"tpu\",\n",
        "            max_epochs=50,\n",
        "            accumulate_grad_batches=1,\n",
        "            gradient_clip_val=1,\n",
        "            precision=\"16\",\n",
        "            val_check_interval=104,\n",
        "            overfit_batches=0,  # 0 for train\n",
        "            num_sanity_val_steps=2,\n",
        "            log_every_n_steps = 20,\n",
        "#             limit_train_batches=100,\n",
        "#             strategy=\"deepspeed_stage_2_offload\"\n",
        "        ),\n",
        "    ),\n",
        ")\n",
        "\n",
        "with open(\"trainer_config.yaml\", \"w\") as outfile:\n",
        "    yaml.dump(trainer_config, outfile, default_flow_style=False)"
      ]
    },
    {
      "cell_type": "code",
      "execution_count": null,
      "metadata": {
        "colab": {
          "base_uri": "https://localhost:8080/"
        },
        "id": "QPcAvJaFJx3A",
        "outputId": "b04257d2-7d57-4d43-de21-50b44c3d3ca4"
      },
      "outputs": [],
      "source": [
        "!python /kaggle/working/CQA_RLHF/reward_model/mse_regression/train.py --config_file /kaggle/working/trainer_config.yaml"
      ]
    },
    {
      "attachments": {},
      "cell_type": "markdown",
      "metadata": {},
      "source": [
        "## Run test"
      ]
    },
    {
      "cell_type": "code",
      "execution_count": 4,
      "metadata": {},
      "outputs": [],
      "source": [
        "test_config = dict(\n",
        "    seed=42,\n",
        "    cuda=True,\n",
        "    log_file = '/content/test-base-125M.csv',\n",
        "    save_steps = 100,\n",
        "    test_params=dict(\n",
        "        save_steps=100,\n",
        "        test_model_path=r'/content/artifacts/model-34980p14:v4/model.ckpt',\n",
        "        log_file='/content/test-tuned-api_usage-answer_loss-bredogenerated-125M.csv',\n",
        "        use_cache=True,\n",
        "    ),\n",
        "    wandb=dict(\n",
        "        api=\"60fce56bfaec85b8d6bc78bfac2086891f5afe54\",\n",
        "        args=dict(group=\"reward\", job_type=\"test\", name=\"125M-base-test\"),\n",
        "        project_name=\"CQA_RLHF\",\n",
        "        table_name=\"125M-reward\",\n",
        "    ),\n",
        "    model_name=\"EleutherAI/gpt-neo-125m\",\n",
        "    data=dict(\n",
        "        data_dir=r\"/kaggle/input/python-qa-api-usage/1.0-data-div-ans-sep-api-usage.json\",\n",
        "        max_length=512,\n",
        "        split='test',\n",
        "        padding_side='right',\n",
        "        padding=False,\n",
        "        truncate_promt = True,\n",
        "    ),\n",
        "    test_model_path=None,\n",
        ")\n",
        "\n",
        "with open(\"test_config.yaml\", \"w\") as outfile:\n",
        "    yaml.dump(test_config, outfile, default_flow_style=False)"
      ]
    },
    {
      "cell_type": "code",
      "execution_count": null,
      "metadata": {},
      "outputs": [],
      "source": [
        "!python /content/cqa/reward/mse_regression/test.py --config_file /content/test_config.yaml"
      ]
    },
    {
      "cell_type": "code",
      "execution_count": null,
      "metadata": {
        "id": "WOuSJJ3LBq6k"
      },
      "outputs": [],
      "source": [
        "  "
      ]
    }
  ],
  "metadata": {
    "accelerator": "GPU",
    "colab": {
      "provenance": []
    },
    "gpuClass": "standard",
    "kernelspec": {
      "display_name": "base",
      "language": "python",
      "name": "python3"
    },
    "language_info": {
      "codemirror_mode": {
        "name": "ipython",
        "version": 3
      },
      "file_extension": ".py",
      "mimetype": "text/x-python",
      "name": "python",
      "nbconvert_exporter": "python",
      "pygments_lexer": "ipython3",
      "version": "3.9.12"
    },
    "orig_nbformat": 4,
    "vscode": {
      "interpreter": {
        "hash": "ad2bdc8ecc057115af97d19610ffacc2b4e99fae6737bb82f5d7fb13d2f2c186"
      }
    }
  },
  "nbformat": 4,
  "nbformat_minor": 0
}

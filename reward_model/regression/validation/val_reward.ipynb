{
 "cells": [
  {
   "attachments": {},
   "cell_type": "markdown",
   "metadata": {},
   "source": [
    "## Imports"
   ]
  },
  {
   "cell_type": "code",
   "execution_count": null,
   "metadata": {},
   "outputs": [],
   "source": [
    "import torch\n",
    "from transformers import AutoTokenizer, AutoModelForSequenceClassification, AutoModelForCausalLM\n",
    "from tqdm import tqdm\n",
    "from datasets import load_dataset\n",
    "from torchmetrics.text.rouge import ROUGEScore\n",
    "from torchmetrics import SacreBLEUScore\n",
    "import nltk\n",
    "nltk.download(\"punkt\")\n",
    "\n",
    "import pandas as pd\n",
    "\n",
    "from collections import defaultdict\n",
    "import gc"
   ]
  },
  {
   "attachments": {},
   "cell_type": "markdown",
   "metadata": {},
   "source": [
    "## Define metrics"
   ]
  },
  {
   "cell_type": "code",
   "execution_count": null,
   "metadata": {},
   "outputs": [],
   "source": [
    "rouge = ROUGEScore()\n",
    "bleu = SacreBLEUScore(1, lowercase=True)"
   ]
  },
  {
   "attachments": {},
   "cell_type": "markdown",
   "metadata": {},
   "source": [
    "## Define models"
   ]
  },
  {
   "cell_type": "code",
   "execution_count": null,
   "metadata": {},
   "outputs": [],
   "source": [
    "if torch.cuda.is_available:\n",
    "    device = torch.device(\"cuda\")\n",
    "else:\n",
    "    device = \"cpu\""
   ]
  },
  {
   "cell_type": "code",
   "execution_count": null,
   "metadata": {},
   "outputs": [],
   "source": [
    "tokenizer = AutoTokenizer.from_pretrained(\"Myashka/125M_GPTneo_reward_gen\")\n",
    "tokenizer.pad_token = tokenizer.eos_token\n",
    "\n",
    "reward_model = AutoModelForSequenceClassification.from_pretrained(\"Myashka/125M_GPTneo_reward_gen\").to(device)\n",
    "sft_model = AutoModelForCausalLM.from_pretrained(\"Myashka/125M_GPTneo_sft_tuned\").to(device)\n",
    "\n",
    "reward_model = reward_model.eval()\n",
    "sft_model = sft_model.eval()\n",
    "\n",
    "reward_model = torch.compile(reward_model)\n",
    "sft_model = torch.compile(sft_model)"
   ]
  },
  {
   "attachments": {},
   "cell_type": "markdown",
   "metadata": {},
   "source": [
    "## Config"
   ]
  },
  {
   "cell_type": "code",
   "execution_count": null,
   "metadata": {},
   "outputs": [],
   "source": [
    "data_config = {'data_file_path': '/content/1.0-data-div-ans-sep-api-usage.json',\n",
    "               \"padding\": False,\n",
    "               \"max_length_promt\": 256,\n",
    "               \"truncate_promt\": True,\n",
    "               }\n",
    "\n",
    "generation_kwargs = {\n",
    "    \"min_length\": -1,\n",
    "    \"top_k\": 1,\n",
    "    'num_return_sequences': 10,\n",
    "    \"top_p\": 1.0,\n",
    "    \"do_sample\": True,\n",
    "    \"max_new_tokens\": 256,\n",
    "}"
   ]
  },
  {
   "attachments": {},
   "cell_type": "markdown",
   "metadata": {},
   "source": [
    "## Data"
   ]
  },
  {
   "cell_type": "code",
   "execution_count": null,
   "metadata": {},
   "outputs": [],
   "source": [
    "def build_dataset(\n",
    "    tokenizer,\n",
    "    data_config,\n",
    "    splits,\n",
    "):\n",
    "\n",
    "    def promt_tokenize(examples):\n",
    "        if data_config['truncate_promt']:\n",
    "            q_toks = tokenizer.encode(examples['Question'])\n",
    "            q_toks = q_toks[:data_config['max_length_promt']-7]\n",
    "            tmp = tokenizer.decode(q_toks).strip()\n",
    "        else:\n",
    "            tmp = examples['Question']\n",
    "\n",
    "        sample = 'Question: ' + tmp + \"\\nAnswer:\"\n",
    "\n",
    "        tokenized_dict = tokenizer(\n",
    "            [sample], padding=data_config['padding'], max_length=data_config['max_length_promt'], truncation=True)\n",
    "        \n",
    "        tokenized_dict['Question_promt'] = sample\n",
    "        tokenized_dict['Original_answer'] = examples['Answer']\n",
    "\n",
    "        return tokenized_dict\n",
    "\n",
    "    datasets = []\n",
    "    for split in splits:\n",
    "        dataset = load_dataset(\n",
    "            \"json\", data_files=f\"{data_config['data_file_path']}\", field=f'{split}')['train']\n",
    "        dataset = dataset.map(promt_tokenize)\n",
    "        dataset.set_format(type=\"torch\", columns=[\"input_ids\", \"Question_promt\", 'Original_answer'])\n",
    "        datasets.append(dataset)\n",
    "    return datasets"
   ]
  },
  {
   "cell_type": "code",
   "execution_count": null,
   "metadata": {},
   "outputs": [],
   "source": [
    "val_dataset = build_dataset(tokenizer, data_config, 'val')[0]"
   ]
  },
  {
   "attachments": {},
   "cell_type": "markdown",
   "metadata": {},
   "source": [
    "## Generate samples to eval"
   ]
  },
  {
   "cell_type": "code",
   "execution_count": null,
   "metadata": {},
   "outputs": [],
   "source": [
    "generation_kwargs = {\n",
    "    \"min_length\": -1,\n",
    "    \"top_k\": 50,\n",
    "    'num_return_sequences': 10,\n",
    "    \"top_p\": 0.9,\n",
    "    \"do_sample\": True,\n",
    "    \"max_new_tokens\": 256,\n",
    "}"
   ]
  },
  {
   "cell_type": "code",
   "execution_count": null,
   "metadata": {},
   "outputs": [],
   "source": [
    "val_dict = defaultdict(list)\n",
    "for i, sample in tqdm(enumerate(val_dataset)):\n",
    "    generated_samples = sft_model.generate(sample[\"input_ids\"].to(device), **generation_kwargs)\n",
    "\n",
    "    val_dict['Question'].extend([sample['Question_promt']]*len(generated_samples))\n",
    "    val_dict['Answer_orig'].extend([sample['Original_answer']]*len(generated_samples))\n",
    "    val_dict['Q_Id'].extend([i]*len(generated_samples))\n",
    "\n",
    "    val_dict[\"Answer_gen\"].extend([tokenizer.decode(r.squeeze()[len(query_idx):], skip_special_tokens=True) for r, query_idx in zip(generated_samples, sample[\"input_ids\"].repeat(10, 1))])\n",
    "\n",
    "    del sample\n",
    "    gc.collect()\n",
    "    torch.cuda.empty_cache()"
   ]
  },
  {
   "cell_type": "code",
   "execution_count": null,
   "metadata": {},
   "outputs": [],
   "source": [
    "result_df = pd.DataFrame(val_dict)"
   ]
  },
  {
   "cell_type": "code",
   "execution_count": null,
   "metadata": {},
   "outputs": [],
   "source": [
    "result_df.to_csv('validation_results.csv', index=False)"
   ]
  },
  {
   "attachments": {},
   "cell_type": "markdown",
   "metadata": {},
   "source": [
    "## Compute metrics"
   ]
  },
  {
   "cell_type": "code",
   "execution_count": null,
   "metadata": {},
   "outputs": [],
   "source": [
    "val_rouge1, val_rouge2, val_bleu = [], [], []\n",
    "\n",
    "for i in tqdm(range(len(result_df))):\n",
    "    generated_answer = result_df[\"Answer_gen\"][i]\n",
    "    original_answer = result_df[\"Answer_orig\"][i]\n",
    "    \n",
    "    # calculate Rouge and BLEU scores\n",
    "    try:\n",
    "        rouge_score = rouge(generated_answer, original_answer)\n",
    "        val_rouge1.append(rouge_score['rouge1_fmeasure'].item())\n",
    "        val_rouge2.append(rouge_score['rouge2_fmeasure'].item())\n",
    "        val_bleu.append(bleu(generated_answer, original_answer).item())\n",
    "    except:\n",
    "      val_rouge1.append(0)\n",
    "      val_rouge2.append(0)\n",
    "      val_bleu.append(0)"
   ]
  },
  {
   "cell_type": "code",
   "execution_count": null,
   "metadata": {},
   "outputs": [],
   "source": [
    "result_df['rouge_1'] = val_rouge1\n",
    "result_df['rouge_2'] = val_rouge2\n",
    "result_df['bleu'] = val_bleu"
   ]
  },
  {
   "cell_type": "code",
   "execution_count": null,
   "metadata": {},
   "outputs": [],
   "source": [
    "result_df.to_csv('validation_results.csv', index=False)"
   ]
  },
  {
   "attachments": {},
   "cell_type": "markdown",
   "metadata": {},
   "source": [
    "## Compute rewards"
   ]
  },
  {
   "cell_type": "code",
   "execution_count": null,
   "metadata": {},
   "outputs": [],
   "source": [
    "df = pd.read_csv('/content/validation_results.csv')"
   ]
  },
  {
   "cell_type": "code",
   "execution_count": null,
   "metadata": {},
   "outputs": [],
   "source": [
    "text = []\n",
    "for index, row in tqdm(df.iterrows()):\n",
    "    q = row['Question']\n",
    "    a = row['Answer_gen']\n",
    "    try:\n",
    "        text.append(q+a)\n",
    "    except:\n",
    "        text.append(q)"
   ]
  },
  {
   "cell_type": "code",
   "execution_count": null,
   "metadata": {},
   "outputs": [],
   "source": [
    "batch_size = 32\n",
    "predictions = []\n",
    "\n",
    "for i in tqdm(range(0, len(text), batch_size)):\n",
    "    batch = text[i:i+batch_size]\n",
    "    \n",
    "    inputs = tokenizer(batch, padding='longest', return_tensors='pt').to(device)\n",
    "    with torch.no_grad():\n",
    "        outputs = reward_model(**inputs).logits\n",
    "    \n",
    "    batch_predictions = outputs.detach().cpu()\n",
    "    predictions.append(batch_predictions)\n",
    "\n",
    "    del batch_predictions\n",
    "    del inputs\n",
    "    gc.collect()\n",
    "    torch.cuda.empty_cache()\n",
    "\n",
    "predictions = torch.cat(predictions, dim=0)"
   ]
  },
  {
   "cell_type": "code",
   "execution_count": null,
   "metadata": {},
   "outputs": [],
   "source": [
    "rewards = [predictions.numpy()[i][0] for i in range(len(predictions))]\n",
    "df['rewards'] = rewards\n",
    "df['metric'] = df[['rouge_1', 'rouge_2', 'bleu']].mean(axis=1)"
   ]
  },
  {
   "attachments": {},
   "cell_type": "markdown",
   "metadata": {},
   "source": [
    "## Check Spearman and Kendall correlations"
   ]
  },
  {
   "cell_type": "code",
   "execution_count": 3,
   "metadata": {},
   "outputs": [],
   "source": [
    "from scipy.stats import spearmanr, kendalltau\n",
    "import pandas as pd"
   ]
  },
  {
   "cell_type": "code",
   "execution_count": 4,
   "metadata": {},
   "outputs": [],
   "source": [
    "df = pd.read_csv(r'D:\\CQA_RLHF\\reward_model\\regression\\validation\\validation_results.csv')"
   ]
  },
  {
   "cell_type": "code",
   "execution_count": 6,
   "metadata": {},
   "outputs": [],
   "source": [
    "grouped_data = df.groupby('Q_Id')"
   ]
  },
  {
   "cell_type": "code",
   "execution_count": 10,
   "metadata": {},
   "outputs": [],
   "source": [
    "rank1 = grouped_data['metric'].rank(method='min', ascending=False)\n",
    "rank2 = grouped_data['rewards'].rank(method='min', ascending=False)\n",
    "\n",
    "corr_spearman, _ = spearmanr(rank1, rank2)\n",
    "\n",
    "corr_kendall, _ = kendalltau(rank1, rank2)"
   ]
  },
  {
   "cell_type": "code",
   "execution_count": 15,
   "metadata": {},
   "outputs": [
    {
     "name": "stdout",
     "output_type": "stream",
     "text": [
      "Spearman correlation: 0.09\n",
      "Kendall correlation: 0.07\n"
     ]
    }
   ],
   "source": [
    "print(f'Spearman correlation: {round(corr_spearman, 2)}\\nKendall correlation: {round(corr_kendall, 2)}')"
   ]
  },
  {
   "cell_type": "code",
   "execution_count": 12,
   "metadata": {},
   "outputs": [],
   "source": [
    "pd.set_option(\"display.max_colwidth\", None)"
   ]
  },
  {
   "cell_type": "code",
   "execution_count": 17,
   "metadata": {},
   "outputs": [
    {
     "data": {
      "text/html": [
       "<div>\n",
       "<style scoped>\n",
       "    .dataframe tbody tr th:only-of-type {\n",
       "        vertical-align: middle;\n",
       "    }\n",
       "\n",
       "    .dataframe tbody tr th {\n",
       "        vertical-align: top;\n",
       "    }\n",
       "\n",
       "    .dataframe thead th {\n",
       "        text-align: right;\n",
       "    }\n",
       "</style>\n",
       "<table border=\"1\" class=\"dataframe\">\n",
       "  <thead>\n",
       "    <tr style=\"text-align: right;\">\n",
       "      <th></th>\n",
       "      <th>Question</th>\n",
       "      <th>Answer_orig</th>\n",
       "      <th>Q_Id</th>\n",
       "      <th>Answer_gen</th>\n",
       "      <th>rouge_1</th>\n",
       "      <th>rouge_2</th>\n",
       "      <th>bleu</th>\n",
       "      <th>rewards</th>\n",
       "      <th>metric</th>\n",
       "    </tr>\n",
       "  </thead>\n",
       "  <tbody>\n",
       "    <tr>\n",
       "      <th>10</th>\n",
       "      <td>Question: If I understand correctly, the python syntax from... import... can be used in two ways\\n\\nfrom package-name import module-name\\nfrom module-name import function-name\\n\\nI would like to know a bit of how Python internally treats the two different forms. Imagine, for example,  that the interpreter gets \"from A import B\", does the interpreter actually try to determine whether A is a package-name/ module-name, or does it internally treat packages and modules as the same class of objects (something like Linux treats files and directories very similarly)?\\nAnswer:</td>\n",
       "      <td>First of all, a module is a python file that contains classes and functions. when you say From A Import B python searches for A(a module) in the standard python library and then imports B(the function or class) which is the module if it finds A. If it doesn't it goes out and starts searching in the directory were packages are stored and searches for the package name( A ) and then if it finds it, it imports the Module name(B). If it fails in the past 2 processes it returns an error.\\nHope this helps.</td>\n",
       "      <td>1</td>\n",
       "      <td>In Python 3.2.2 and later, package names are actually only used as a placeholder for classes.\\nFor this reason, you will have to distinguish different packages to see which is not a package-name as much as you would with packages that have a prefix like package-name.</td>\n",
       "      <td>0.268456</td>\n",
       "      <td>0.027211</td>\n",
       "      <td>0.031674</td>\n",
       "      <td>0.300511</td>\n",
       "      <td>0.109114</td>\n",
       "    </tr>\n",
       "    <tr>\n",
       "      <th>11</th>\n",
       "      <td>Question: If I understand correctly, the python syntax from... import... can be used in two ways\\n\\nfrom package-name import module-name\\nfrom module-name import function-name\\n\\nI would like to know a bit of how Python internally treats the two different forms. Imagine, for example,  that the interpreter gets \"from A import B\", does the interpreter actually try to determine whether A is a package-name/ module-name, or does it internally treat packages and modules as the same class of objects (something like Linux treats files and directories very similarly)?\\nAnswer:</td>\n",
       "      <td>First of all, a module is a python file that contains classes and functions. when you say From A Import B python searches for A(a module) in the standard python library and then imports B(the function or class) which is the module if it finds A. If it doesn't it goes out and starts searching in the directory were packages are stored and searches for the package name( A ) and then if it finds it, it imports the Module name(B). If it fails in the past 2 processes it returns an error.\\nHope this helps.</td>\n",
       "      <td>1</td>\n",
       "      <td>From the documentation, it is a known and undocumented technique.  I've been using the interpreter from a previous point of view, but I'm not sure what the difference is in my experience, but I think you are using the same method if you try to get to the interpreter and return something similar.</td>\n",
       "      <td>0.233766</td>\n",
       "      <td>0.026316</td>\n",
       "      <td>0.049383</td>\n",
       "      <td>0.138370</td>\n",
       "      <td>0.103155</td>\n",
       "    </tr>\n",
       "    <tr>\n",
       "      <th>12</th>\n",
       "      <td>Question: If I understand correctly, the python syntax from... import... can be used in two ways\\n\\nfrom package-name import module-name\\nfrom module-name import function-name\\n\\nI would like to know a bit of how Python internally treats the two different forms. Imagine, for example,  that the interpreter gets \"from A import B\", does the interpreter actually try to determine whether A is a package-name/ module-name, or does it internally treat packages and modules as the same class of objects (something like Linux treats files and directories very similarly)?\\nAnswer:</td>\n",
       "      <td>First of all, a module is a python file that contains classes and functions. when you say From A Import B python searches for A(a module) in the standard python library and then imports B(the function or class) which is the module if it finds A. If it doesn't it goes out and starts searching in the directory were packages are stored and searches for the package name( A ) and then if it finds it, it imports the Module name(B). If it fails in the past 2 processes it returns an error.\\nHope this helps.</td>\n",
       "      <td>1</td>\n",
       "      <td>To understand the import logic of Python is to understand how the import operator (I) is used in the different ways. It should be clear to you what you expect, though I cannot rule out the difference between the two.\\nA more complex example is to be able to explain what python does. Suppose that we import the Python script we are talking about, and the Python interpreter tries to get the same object from A.\\nThe Python interpreter does not handle this, but, in Python 2, it handles the object itself by default.\\nNow, if the interpreter tries to \"check\" the object A is a package-name/ module-name, then it's doing the same thing. If A is the package-name, then the interpreter tries to get A as a package-name (which, from the Python interpreter's point of view, is a package object). It is doing the same thing as doing it the same way.</td>\n",
       "      <td>0.348837</td>\n",
       "      <td>0.054688</td>\n",
       "      <td>0.060827</td>\n",
       "      <td>0.439226</td>\n",
       "      <td>0.154784</td>\n",
       "    </tr>\n",
       "    <tr>\n",
       "      <th>13</th>\n",
       "      <td>Question: If I understand correctly, the python syntax from... import... can be used in two ways\\n\\nfrom package-name import module-name\\nfrom module-name import function-name\\n\\nI would like to know a bit of how Python internally treats the two different forms. Imagine, for example,  that the interpreter gets \"from A import B\", does the interpreter actually try to determine whether A is a package-name/ module-name, or does it internally treat packages and modules as the same class of objects (something like Linux treats files and directories very similarly)?\\nAnswer:</td>\n",
       "      <td>First of all, a module is a python file that contains classes and functions. when you say From A Import B python searches for A(a module) in the standard python library and then imports B(the function or class) which is the module if it finds A. If it doesn't it goes out and starts searching in the directory were packages are stored and searches for the package name( A ) and then if it finds it, it imports the Module name(B). If it fails in the past 2 processes it returns an error.\\nHope this helps.</td>\n",
       "      <td>1</td>\n",
       "      <td>yes.\\nIf the interpreter is going to go from A.b and A.b to A.c, it does not do the same for the module that A.b does.\\nIf, on the other hand, the module itself doesn't go from B.c to B.c, it doesn't know.\\n(The first case does not really get any further than that.)</td>\n",
       "      <td>0.335404</td>\n",
       "      <td>0.075472</td>\n",
       "      <td>0.046944</td>\n",
       "      <td>0.285275</td>\n",
       "      <td>0.152606</td>\n",
       "    </tr>\n",
       "    <tr>\n",
       "      <th>14</th>\n",
       "      <td>Question: If I understand correctly, the python syntax from... import... can be used in two ways\\n\\nfrom package-name import module-name\\nfrom module-name import function-name\\n\\nI would like to know a bit of how Python internally treats the two different forms. Imagine, for example,  that the interpreter gets \"from A import B\", does the interpreter actually try to determine whether A is a package-name/ module-name, or does it internally treat packages and modules as the same class of objects (something like Linux treats files and directories very similarly)?\\nAnswer:</td>\n",
       "      <td>First of all, a module is a python file that contains classes and functions. when you say From A Import B python searches for A(a module) in the standard python library and then imports B(the function or class) which is the module if it finds A. If it doesn't it goes out and starts searching in the directory were packages are stored and searches for the package name( A ) and then if it finds it, it imports the Module name(B). If it fails in the past 2 processes it returns an error.\\nHope this helps.</td>\n",
       "      <td>1</td>\n",
       "      <td>If you can explain better how Python does it, then this may help.\\n\\nFrom a very basic point of view, if your program uses Python itself, it will handle package-name, module-name, and function-name in the same way. However, if you're using the Python interpreter, you should not treat these as separate components (even if they're just parts of the same thing).\\n</td>\n",
       "      <td>0.303030</td>\n",
       "      <td>0.049080</td>\n",
       "      <td>0.060403</td>\n",
       "      <td>-0.082900</td>\n",
       "      <td>0.137504</td>\n",
       "    </tr>\n",
       "    <tr>\n",
       "      <th>15</th>\n",
       "      <td>Question: If I understand correctly, the python syntax from... import... can be used in two ways\\n\\nfrom package-name import module-name\\nfrom module-name import function-name\\n\\nI would like to know a bit of how Python internally treats the two different forms. Imagine, for example,  that the interpreter gets \"from A import B\", does the interpreter actually try to determine whether A is a package-name/ module-name, or does it internally treat packages and modules as the same class of objects (something like Linux treats files and directories very similarly)?\\nAnswer:</td>\n",
       "      <td>First of all, a module is a python file that contains classes and functions. when you say From A Import B python searches for A(a module) in the standard python library and then imports B(the function or class) which is the module if it finds A. If it doesn't it goes out and starts searching in the directory were packages are stored and searches for the package name( A ) and then if it finds it, it imports the Module name(B). If it fails in the past 2 processes it returns an error.\\nHope this helps.</td>\n",
       "      <td>1</td>\n",
       "      <td>The simplest way to answer this question is to write the code with an explicit function that works like the python function itself (which is not something that can be called in a language other than Python, but could be written like so). If it looks like a function can treat the objects as classes then you could write something like this:\\nimport py_py as class from sys.modules.py.</td>\n",
       "      <td>0.282353</td>\n",
       "      <td>0.023810</td>\n",
       "      <td>0.028481</td>\n",
       "      <td>0.131596</td>\n",
       "      <td>0.111548</td>\n",
       "    </tr>\n",
       "    <tr>\n",
       "      <th>16</th>\n",
       "      <td>Question: If I understand correctly, the python syntax from... import... can be used in two ways\\n\\nfrom package-name import module-name\\nfrom module-name import function-name\\n\\nI would like to know a bit of how Python internally treats the two different forms. Imagine, for example,  that the interpreter gets \"from A import B\", does the interpreter actually try to determine whether A is a package-name/ module-name, or does it internally treat packages and modules as the same class of objects (something like Linux treats files and directories very similarly)?\\nAnswer:</td>\n",
       "      <td>First of all, a module is a python file that contains classes and functions. when you say From A Import B python searches for A(a module) in the standard python library and then imports B(the function or class) which is the module if it finds A. If it doesn't it goes out and starts searching in the directory were packages are stored and searches for the package name( A ) and then if it finds it, it imports the Module name(B). If it fails in the past 2 processes it returns an error.\\nHope this helps.</td>\n",
       "      <td>1</td>\n",
       "      <td>You might say you can't interpret the modules into the import modules, and you can do so via package-name, but I have no doubt that if you tried to use a single-instance import the first time the module got imported you would end up with an interpreter that doesn't recognize it, and that's the wrong way to go.\\nOn the other hand, if you can't really read the code into the import module, you probably can't use package-name, which is the same approach as package-name, and which means package-name isn't exactly a good idea as long as you know what package is actually imported.</td>\n",
       "      <td>0.289720</td>\n",
       "      <td>0.047170</td>\n",
       "      <td>0.036232</td>\n",
       "      <td>0.276913</td>\n",
       "      <td>0.124374</td>\n",
       "    </tr>\n",
       "    <tr>\n",
       "      <th>17</th>\n",
       "      <td>Question: If I understand correctly, the python syntax from... import... can be used in two ways\\n\\nfrom package-name import module-name\\nfrom module-name import function-name\\n\\nI would like to know a bit of how Python internally treats the two different forms. Imagine, for example,  that the interpreter gets \"from A import B\", does the interpreter actually try to determine whether A is a package-name/ module-name, or does it internally treat packages and modules as the same class of objects (something like Linux treats files and directories very similarly)?\\nAnswer:</td>\n",
       "      <td>First of all, a module is a python file that contains classes and functions. when you say From A Import B python searches for A(a module) in the standard python library and then imports B(the function or class) which is the module if it finds A. If it doesn't it goes out and starts searching in the directory were packages are stored and searches for the package name( A ) and then if it finds it, it imports the Module name(B). If it fails in the past 2 processes it returns an error.\\nHope this helps.</td>\n",
       "      <td>1</td>\n",
       "      <td>I think you are correct about the Python syntax for the second option.\\nIf A is a package-name, B is a module-name, and vice versa (I mean there are different types of packages and modules).\\nHowever, if you take the second way and think that the interpreter thinks A is a package-name/module-name, then it would be easier to read and write code to handle it (probably in a package-name/module-name format) so that you don't have to change a single class of object into a package-name/module-name.\\nThe other way around is to use package-name and module-name as names of the modules.\\nIf a package-name/module-name is a package name, it's probably a package-name, not module-name.\\nTo me, the best way to approach this problem is to use the Python package manager (pim), which has a good set of useful programming tools and a good set of packages and modules for the package-name, and the second option is to simply use package-name and module-name as you have in the first example, but I don't know if the third option is a better approach.\\nIf you are using</td>\n",
       "      <td>0.345277</td>\n",
       "      <td>0.052459</td>\n",
       "      <td>0.047962</td>\n",
       "      <td>0.212113</td>\n",
       "      <td>0.148566</td>\n",
       "    </tr>\n",
       "    <tr>\n",
       "      <th>18</th>\n",
       "      <td>Question: If I understand correctly, the python syntax from... import... can be used in two ways\\n\\nfrom package-name import module-name\\nfrom module-name import function-name\\n\\nI would like to know a bit of how Python internally treats the two different forms. Imagine, for example,  that the interpreter gets \"from A import B\", does the interpreter actually try to determine whether A is a package-name/ module-name, or does it internally treat packages and modules as the same class of objects (something like Linux treats files and directories very similarly)?\\nAnswer:</td>\n",
       "      <td>First of all, a module is a python file that contains classes and functions. when you say From A Import B python searches for A(a module) in the standard python library and then imports B(the function or class) which is the module if it finds A. If it doesn't it goes out and starts searching in the directory were packages are stored and searches for the package name( A ) and then if it finds it, it imports the Module name(B). If it fails in the past 2 processes it returns an error.\\nHope this helps.</td>\n",
       "      <td>1</td>\n",
       "      <td>In Python 3, you can do this with a dictionary of functions. However, if you try to do the same from Python 2 (Python 2.X) then your interpreter treats the objects as different, even if they are the same thing.</td>\n",
       "      <td>0.257143</td>\n",
       "      <td>0.000000</td>\n",
       "      <td>0.017340</td>\n",
       "      <td>0.268323</td>\n",
       "      <td>0.091494</td>\n",
       "    </tr>\n",
       "    <tr>\n",
       "      <th>19</th>\n",
       "      <td>Question: If I understand correctly, the python syntax from... import... can be used in two ways\\n\\nfrom package-name import module-name\\nfrom module-name import function-name\\n\\nI would like to know a bit of how Python internally treats the two different forms. Imagine, for example,  that the interpreter gets \"from A import B\", does the interpreter actually try to determine whether A is a package-name/ module-name, or does it internally treat packages and modules as the same class of objects (something like Linux treats files and directories very similarly)?\\nAnswer:</td>\n",
       "      <td>First of all, a module is a python file that contains classes and functions. when you say From A Import B python searches for A(a module) in the standard python library and then imports B(the function or class) which is the module if it finds A. If it doesn't it goes out and starts searching in the directory were packages are stored and searches for the package name( A ) and then if it finds it, it imports the Module name(B). If it fails in the past 2 processes it returns an error.\\nHope this helps.</td>\n",
       "      <td>1</td>\n",
       "      <td>I think there is a different way to represent the two different types of data that the interpreter can actually use. It is the same process as the package-name, but in an abstract way.\\nThe first approach is using an \"a\" argument (or a \"b\" argument) that the interpreter can assign to the result of the Python process. The reason you are using this approach is because the interpreter has to interpret both a package-name and a module-name.</td>\n",
       "      <td>0.344444</td>\n",
       "      <td>0.067416</td>\n",
       "      <td>0.041436</td>\n",
       "      <td>0.265660</td>\n",
       "      <td>0.151099</td>\n",
       "    </tr>\n",
       "  </tbody>\n",
       "</table>\n",
       "</div>"
      ],
      "text/plain": [
       "                                                                                                                                                                                                                                                                                                                                                                                                                                                                                                                                                                                          Question                                                                                                                                                                                                                                                                                                                                                                                                                                                                                                               Answer_orig  Q_Id                                                                                                                                                                                                                                                                                                                                                                                                                                                                                                                                                                                                                                                                                                                                                                                                                                                                                                                                                                                                                                                                                           Answer_gen   rouge_1   rouge_2      bleu   rewards    metric\n",
       "10  Question: If I understand correctly, the python syntax from... import... can be used in two ways\\n\\nfrom package-name import module-name\\nfrom module-name import function-name\\n\\nI would like to know a bit of how Python internally treats the two different forms. Imagine, for example,  that the interpreter gets \"from A import B\", does the interpreter actually try to determine whether A is a package-name/ module-name, or does it internally treat packages and modules as the same class of objects (something like Linux treats files and directories very similarly)?\\nAnswer:  First of all, a module is a python file that contains classes and functions. when you say From A Import B python searches for A(a module) in the standard python library and then imports B(the function or class) which is the module if it finds A. If it doesn't it goes out and starts searching in the directory were packages are stored and searches for the package name( A ) and then if it finds it, it imports the Module name(B). If it fails in the past 2 processes it returns an error.\\nHope this helps.     1                                                                                                                                                                                                                                                                                                                                                                                                                                                                                                                                                                                                                                                                                                                                                                                                                          In Python 3.2.2 and later, package names are actually only used as a placeholder for classes.\\nFor this reason, you will have to distinguish different packages to see which is not a package-name as much as you would with packages that have a prefix like package-name.  0.268456  0.027211  0.031674  0.300511  0.109114\n",
       "11  Question: If I understand correctly, the python syntax from... import... can be used in two ways\\n\\nfrom package-name import module-name\\nfrom module-name import function-name\\n\\nI would like to know a bit of how Python internally treats the two different forms. Imagine, for example,  that the interpreter gets \"from A import B\", does the interpreter actually try to determine whether A is a package-name/ module-name, or does it internally treat packages and modules as the same class of objects (something like Linux treats files and directories very similarly)?\\nAnswer:  First of all, a module is a python file that contains classes and functions. when you say From A Import B python searches for A(a module) in the standard python library and then imports B(the function or class) which is the module if it finds A. If it doesn't it goes out and starts searching in the directory were packages are stored and searches for the package name( A ) and then if it finds it, it imports the Module name(B). If it fails in the past 2 processes it returns an error.\\nHope this helps.     1                                                                                                                                                                                                                                                                                                                                                                                                                                                                                                                                                                                                                                                                                                                                                                                             From the documentation, it is a known and undocumented technique.  I've been using the interpreter from a previous point of view, but I'm not sure what the difference is in my experience, but I think you are using the same method if you try to get to the interpreter and return something similar.  0.233766  0.026316  0.049383  0.138370  0.103155\n",
       "12  Question: If I understand correctly, the python syntax from... import... can be used in two ways\\n\\nfrom package-name import module-name\\nfrom module-name import function-name\\n\\nI would like to know a bit of how Python internally treats the two different forms. Imagine, for example,  that the interpreter gets \"from A import B\", does the interpreter actually try to determine whether A is a package-name/ module-name, or does it internally treat packages and modules as the same class of objects (something like Linux treats files and directories very similarly)?\\nAnswer:  First of all, a module is a python file that contains classes and functions. when you say From A Import B python searches for A(a module) in the standard python library and then imports B(the function or class) which is the module if it finds A. If it doesn't it goes out and starts searching in the directory were packages are stored and searches for the package name( A ) and then if it finds it, it imports the Module name(B). If it fails in the past 2 processes it returns an error.\\nHope this helps.     1                                                                                                                                                                                                                           To understand the import logic of Python is to understand how the import operator (I) is used in the different ways. It should be clear to you what you expect, though I cannot rule out the difference between the two.\\nA more complex example is to be able to explain what python does. Suppose that we import the Python script we are talking about, and the Python interpreter tries to get the same object from A.\\nThe Python interpreter does not handle this, but, in Python 2, it handles the object itself by default.\\nNow, if the interpreter tries to \"check\" the object A is a package-name/ module-name, then it's doing the same thing. If A is the package-name, then the interpreter tries to get A as a package-name (which, from the Python interpreter's point of view, is a package object). It is doing the same thing as doing it the same way.  0.348837  0.054688  0.060827  0.439226  0.154784\n",
       "13  Question: If I understand correctly, the python syntax from... import... can be used in two ways\\n\\nfrom package-name import module-name\\nfrom module-name import function-name\\n\\nI would like to know a bit of how Python internally treats the two different forms. Imagine, for example,  that the interpreter gets \"from A import B\", does the interpreter actually try to determine whether A is a package-name/ module-name, or does it internally treat packages and modules as the same class of objects (something like Linux treats files and directories very similarly)?\\nAnswer:  First of all, a module is a python file that contains classes and functions. when you say From A Import B python searches for A(a module) in the standard python library and then imports B(the function or class) which is the module if it finds A. If it doesn't it goes out and starts searching in the directory were packages are stored and searches for the package name( A ) and then if it finds it, it imports the Module name(B). If it fails in the past 2 processes it returns an error.\\nHope this helps.     1                                                                                                                                                                                                                                                                                                                                                                                                                                                                                                                                                                                                                                                                                                                                                                                                                           yes.\\nIf the interpreter is going to go from A.b and A.b to A.c, it does not do the same for the module that A.b does.\\nIf, on the other hand, the module itself doesn't go from B.c to B.c, it doesn't know.\\n(The first case does not really get any further than that.)  0.335404  0.075472  0.046944  0.285275  0.152606\n",
       "14  Question: If I understand correctly, the python syntax from... import... can be used in two ways\\n\\nfrom package-name import module-name\\nfrom module-name import function-name\\n\\nI would like to know a bit of how Python internally treats the two different forms. Imagine, for example,  that the interpreter gets \"from A import B\", does the interpreter actually try to determine whether A is a package-name/ module-name, or does it internally treat packages and modules as the same class of objects (something like Linux treats files and directories very similarly)?\\nAnswer:  First of all, a module is a python file that contains classes and functions. when you say From A Import B python searches for A(a module) in the standard python library and then imports B(the function or class) which is the module if it finds A. If it doesn't it goes out and starts searching in the directory were packages are stored and searches for the package name( A ) and then if it finds it, it imports the Module name(B). If it fails in the past 2 processes it returns an error.\\nHope this helps.     1                                                                                                                                                                                                                                                                                                                                                                                                                                                                                                                                                                                                                                                                                                                          If you can explain better how Python does it, then this may help.\\n\\nFrom a very basic point of view, if your program uses Python itself, it will handle package-name, module-name, and function-name in the same way. However, if you're using the Python interpreter, you should not treat these as separate components (even if they're just parts of the same thing).\\n  0.303030  0.049080  0.060403 -0.082900  0.137504\n",
       "15  Question: If I understand correctly, the python syntax from... import... can be used in two ways\\n\\nfrom package-name import module-name\\nfrom module-name import function-name\\n\\nI would like to know a bit of how Python internally treats the two different forms. Imagine, for example,  that the interpreter gets \"from A import B\", does the interpreter actually try to determine whether A is a package-name/ module-name, or does it internally treat packages and modules as the same class of objects (something like Linux treats files and directories very similarly)?\\nAnswer:  First of all, a module is a python file that contains classes and functions. when you say From A Import B python searches for A(a module) in the standard python library and then imports B(the function or class) which is the module if it finds A. If it doesn't it goes out and starts searching in the directory were packages are stored and searches for the package name( A ) and then if it finds it, it imports the Module name(B). If it fails in the past 2 processes it returns an error.\\nHope this helps.     1                                                                                                                                                                                                                                                                                                                                                                                                                                                                                                                                                                                                                                                                                                     The simplest way to answer this question is to write the code with an explicit function that works like the python function itself (which is not something that can be called in a language other than Python, but could be written like so). If it looks like a function can treat the objects as classes then you could write something like this:\\nimport py_py as class from sys.modules.py.  0.282353  0.023810  0.028481  0.131596  0.111548\n",
       "16  Question: If I understand correctly, the python syntax from... import... can be used in two ways\\n\\nfrom package-name import module-name\\nfrom module-name import function-name\\n\\nI would like to know a bit of how Python internally treats the two different forms. Imagine, for example,  that the interpreter gets \"from A import B\", does the interpreter actually try to determine whether A is a package-name/ module-name, or does it internally treat packages and modules as the same class of objects (something like Linux treats files and directories very similarly)?\\nAnswer:  First of all, a module is a python file that contains classes and functions. when you say From A Import B python searches for A(a module) in the standard python library and then imports B(the function or class) which is the module if it finds A. If it doesn't it goes out and starts searching in the directory were packages are stored and searches for the package name( A ) and then if it finds it, it imports the Module name(B). If it fails in the past 2 processes it returns an error.\\nHope this helps.     1                                                                                                                                                                                                                                                                                                                                                                                                                                                                                                 You might say you can't interpret the modules into the import modules, and you can do so via package-name, but I have no doubt that if you tried to use a single-instance import the first time the module got imported you would end up with an interpreter that doesn't recognize it, and that's the wrong way to go.\\nOn the other hand, if you can't really read the code into the import module, you probably can't use package-name, which is the same approach as package-name, and which means package-name isn't exactly a good idea as long as you know what package is actually imported.  0.289720  0.047170  0.036232  0.276913  0.124374\n",
       "17  Question: If I understand correctly, the python syntax from... import... can be used in two ways\\n\\nfrom package-name import module-name\\nfrom module-name import function-name\\n\\nI would like to know a bit of how Python internally treats the two different forms. Imagine, for example,  that the interpreter gets \"from A import B\", does the interpreter actually try to determine whether A is a package-name/ module-name, or does it internally treat packages and modules as the same class of objects (something like Linux treats files and directories very similarly)?\\nAnswer:  First of all, a module is a python file that contains classes and functions. when you say From A Import B python searches for A(a module) in the standard python library and then imports B(the function or class) which is the module if it finds A. If it doesn't it goes out and starts searching in the directory were packages are stored and searches for the package name( A ) and then if it finds it, it imports the Module name(B). If it fails in the past 2 processes it returns an error.\\nHope this helps.     1  I think you are correct about the Python syntax for the second option.\\nIf A is a package-name, B is a module-name, and vice versa (I mean there are different types of packages and modules).\\nHowever, if you take the second way and think that the interpreter thinks A is a package-name/module-name, then it would be easier to read and write code to handle it (probably in a package-name/module-name format) so that you don't have to change a single class of object into a package-name/module-name.\\nThe other way around is to use package-name and module-name as names of the modules.\\nIf a package-name/module-name is a package name, it's probably a package-name, not module-name.\\nTo me, the best way to approach this problem is to use the Python package manager (pim), which has a good set of useful programming tools and a good set of packages and modules for the package-name, and the second option is to simply use package-name and module-name as you have in the first example, but I don't know if the third option is a better approach.\\nIf you are using  0.345277  0.052459  0.047962  0.212113  0.148566\n",
       "18  Question: If I understand correctly, the python syntax from... import... can be used in two ways\\n\\nfrom package-name import module-name\\nfrom module-name import function-name\\n\\nI would like to know a bit of how Python internally treats the two different forms. Imagine, for example,  that the interpreter gets \"from A import B\", does the interpreter actually try to determine whether A is a package-name/ module-name, or does it internally treat packages and modules as the same class of objects (something like Linux treats files and directories very similarly)?\\nAnswer:  First of all, a module is a python file that contains classes and functions. when you say From A Import B python searches for A(a module) in the standard python library and then imports B(the function or class) which is the module if it finds A. If it doesn't it goes out and starts searching in the directory were packages are stored and searches for the package name( A ) and then if it finds it, it imports the Module name(B). If it fails in the past 2 processes it returns an error.\\nHope this helps.     1                                                                                                                                                                                                                                                                                                                                                                                                                                                                                                                                                                                                                                                                                                                                                                                                                                                                                   In Python 3, you can do this with a dictionary of functions. However, if you try to do the same from Python 2 (Python 2.X) then your interpreter treats the objects as different, even if they are the same thing.  0.257143  0.000000  0.017340  0.268323  0.091494\n",
       "19  Question: If I understand correctly, the python syntax from... import... can be used in two ways\\n\\nfrom package-name import module-name\\nfrom module-name import function-name\\n\\nI would like to know a bit of how Python internally treats the two different forms. Imagine, for example,  that the interpreter gets \"from A import B\", does the interpreter actually try to determine whether A is a package-name/ module-name, or does it internally treat packages and modules as the same class of objects (something like Linux treats files and directories very similarly)?\\nAnswer:  First of all, a module is a python file that contains classes and functions. when you say From A Import B python searches for A(a module) in the standard python library and then imports B(the function or class) which is the module if it finds A. If it doesn't it goes out and starts searching in the directory were packages are stored and searches for the package name( A ) and then if it finds it, it imports the Module name(B). If it fails in the past 2 processes it returns an error.\\nHope this helps.     1                                                                                                                                                                                                                                                                                                                                                                                                                                                                                                                                                                                                                                             I think there is a different way to represent the two different types of data that the interpreter can actually use. It is the same process as the package-name, but in an abstract way.\\nThe first approach is using an \"a\" argument (or a \"b\" argument) that the interpreter can assign to the result of the Python process. The reason you are using this approach is because the interpreter has to interpret both a package-name and a module-name.  0.344444  0.067416  0.041436  0.265660  0.151099"
      ]
     },
     "execution_count": 17,
     "metadata": {},
     "output_type": "execute_result"
    }
   ],
   "source": [
    "df[df['Q_Id'] == 1]"
   ]
  },
  {
   "cell_type": "code",
   "execution_count": null,
   "metadata": {},
   "outputs": [],
   "source": []
  }
 ],
 "metadata": {
  "kernelspec": {
   "display_name": "base",
   "language": "python",
   "name": "python3"
  },
  "language_info": {
   "codemirror_mode": {
    "name": "ipython",
    "version": 3
   },
   "file_extension": ".py",
   "mimetype": "text/x-python",
   "name": "python",
   "nbconvert_exporter": "python",
   "pygments_lexer": "ipython3",
   "version": "3.9.12"
  },
  "orig_nbformat": 4
 },
 "nbformat": 4,
 "nbformat_minor": 2
}
